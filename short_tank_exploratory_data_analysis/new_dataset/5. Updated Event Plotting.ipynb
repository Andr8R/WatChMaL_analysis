{
 "cells": [
  {
   "cell_type": "markdown",
   "metadata": {},
   "source": [
    "# Updated Event Plotting"
   ]
  },
  {
   "cell_type": "code",
   "execution_count": 14,
   "metadata": {},
   "outputs": [],
   "source": [
    "import numpy as np\n",
    "import h5py\n",
    "import matplotlib.pyplot as plt"
   ]
  },
  {
   "cell_type": "code",
   "execution_count": 5,
   "metadata": {},
   "outputs": [],
   "source": [
    "original_data_path = \"/data/WatChMaL/data/IWCD_mPMT_Short_e-mu-gamma_E0to1000MeV_digihits.h5\"\n",
    "data_file = h5py.File(original_data_path, \"r\")\n",
    "\n",
    "\n",
    "hdf5_hit_pmt    = data_file[\"hit_pmt\"]\n",
    "hdf5_hit_time   = data_file[\"hit_time\"]\n",
    "hdf5_hit_charge = data_file[\"hit_charge\"]\n",
    "\n",
    "\n",
    "hit_pmt    = np.memmap(original_data_path, mode=\"r\", shape=hdf5_hit_pmt.shape,\n",
    "                                    offset=hdf5_hit_pmt.id.get_offset(), dtype=hdf5_hit_pmt.dtype)\n",
    "\n",
    "hit_time   = np.memmap(original_data_path, mode=\"r\", shape=hdf5_hit_time.shape,\n",
    "                                    offset=hdf5_hit_time.id.get_offset(), dtype=hdf5_hit_time.dtype)\n",
    "\n",
    "hit_charge = np.memmap(original_data_path, mode=\"r\", shape=hdf5_hit_charge.shape,\n",
    "                                    offset=hdf5_hit_charge.id.get_offset(), dtype=hdf5_hit_charge.dtype)\n",
    "\n",
    "angles     = np.array(data_file['angles'])\n",
    "energies   = np.array(data_file['energies'])\n",
    "positions  = np.array(data_file['positions'])\n",
    "labels     = np.array(data_file['labels'])\n",
    "root_files = np.array(data_file['root_files'])"
   ]
  },
  {
   "cell_type": "code",
   "execution_count": 8,
   "metadata": {},
   "outputs": [],
   "source": [
    "barrel_map_array_idxs = [6, 7, 8, 9, 10, 11, 0, 1, 2, 3, 4, 5, 15, 16, 17, 12, 13, 14, 18]\n",
    "pmts_per_mpmt = 19\n",
    "\n",
    "event_hits_index = np.append(data_file[\"event_hits_index\"], hdf5_hit_pmt.shape[0]).astype(np.int64)\n",
    "\n",
    "mpmt_positions_file = '/data/WatChMaL/data/IWCDshort_mPMT_image_positions.npz'\n",
    "mpmt_positions   = np.load(mpmt_positions_file)['mpmt_image_positions']\n",
    "\n",
    "data_size = np.max(mpmt_positions, axis=0) + 1\n",
    "n_channels = pmts_per_mpmt\n",
    "data_size = np.insert(data_size, 0, n_channels)"
   ]
  },
  {
   "cell_type": "code",
   "execution_count": 19,
   "metadata": {},
   "outputs": [
    {
     "name": "stdout",
     "output_type": "stream",
     "text": [
      "(536, 2)\n"
     ]
    }
   ],
   "source": [
    "print(mpmt_positions.shape)"
   ]
  },
  {
   "cell_type": "code",
   "execution_count": null,
   "metadata": {},
   "outputs": [],
   "source": [
    "def PMT_to_flat_cylinder_mapping( tubes, tube_xyz ):\n",
    "    \"\"\"\n",
    "    Build dictionary of PMT number, to (x,y) on a flat cylinder\n",
    "    \n",
    "    N.B. Tube numbers in full geometry file go from 1:NPMTs, but it seems like\n",
    "    the event data number from 0:NPMTs-1, so subtracting 1 from tube number here?\n",
    "    \"\"\"\n",
    "    mapping = {}\n",
    "    for idx, tube in enumerate(tubes):\n",
    "        x = tube_xyz[idx,0]\n",
    "        y = tube_xyz[idx,1]\n",
    "        z = tube_xyz[idx,2]\n",
    "        if ( y > 500. ):\n",
    "            # in top circle of cylinder\n",
    "            xflat = x\n",
    "            yflat = 897.6 + z\n",
    "            mapping[ int( tube-1 ) ] = [ xflat, yflat ]\n",
    "            \n",
    "        elif ( y < -500.):\n",
    "            # in bottom circle of cylinder+\n",
    "            xflat = x\n",
    "            yflat = -897.6 + z\n",
    "            mapping[ int( tube-1 ) ] = [ xflat, yflat ]\n",
    "            \n",
    "        else:\n",
    "            # in barrel part of cylinder\n",
    "            theta = math.atan2( z, x )\n",
    "            xflat = R * theta\n",
    "            yflat = y\n",
    "            mapping[ int( tube-1 ) ] = [ xflat, yflat ]\n",
    "    return mapping"
   ]
  },
  {
   "cell_type": "code",
   "execution_count": null,
   "metadata": {},
   "outputs": [],
   "source": [
    "PMTFlatMapping = PMT_to_flat_cylinder_mapping( tubes, tube_xyz )"
   ]
  },
  {
   "cell_type": "code",
   "execution_count": 9,
   "metadata": {},
   "outputs": [],
   "source": [
    "def get_event_data_from_index(item):\n",
    "    start = event_hits_index[item]\n",
    "    stop  = event_hits_index[item + 1]\n",
    "\n",
    "    hit_pmts    = hit_pmt[start:stop].astype(np.int16)\n",
    "    hit_charges = hit_charge[start:stop]\n",
    "    hit_times   = hit_time[start:stop]\n",
    "\n",
    "    hit_mpmts = hit_pmts // pmts_per_mpmt\n",
    "    hit_pmt_in_modules = hit_pmts % pmts_per_mpmt\n",
    "\n",
    "    hit_rows = mpmt_positions[hit_mpmts, 0]\n",
    "    hit_cols = mpmt_positions[hit_mpmts, 1]\n",
    "\n",
    "    sample_data = np.zeros(data_size)\n",
    "    sample_data[hit_pmt_in_modules, hit_rows, hit_cols] = hit_charges\n",
    "\n",
    "    # fix barrel array indexing to match endcaps in xyz ordering\n",
    "    sample_data[:, 12:28, :] = sample_data[barrel_map_array_idxs, 12:28, :]\n",
    "    moved_data = np.moveaxis(sample_data, 0, -1)\n",
    "    return moved_data"
   ]
  },
  {
   "cell_type": "code",
   "execution_count": 12,
   "metadata": {},
   "outputs": [],
   "source": [
    "def EventDisplay( tubes, quantities, title=\"Charge\", cutrange=[-1,-1] ):\n",
    "    \"\"\"\n",
    "    tubes == np.array of PMTs that were hit\n",
    "    quantities == np.array of PMT quantities (either charge or time)\n",
    "    title == title to add to display\n",
    "    cutrange == minimum and maximum values on plot (or set both same for default)\n",
    "    \"\"\"\n",
    "    \n",
    "    fig = plt.figure(figsize=[12,12]) \n",
    "    preimage = np.zeros( [2506, 2317] )\n",
    "    #maxquantity = quantities.max()\n",
    "    #preimage *= maxquantity*1.2\n",
    "    imgmin = quantities.min()\n",
    "    imgmax = quantities.max()\n",
    "    for idx, tube in enumerate( tubes ):\n",
    "        if cutrange[0] != cutrange[1]:\n",
    "            if quantities[idx] < cutrange[0] or quantities[idx] > cutrange[1]:\n",
    "                continue\n",
    "        for dx in range(-3,4):\n",
    "            for dy in range(-3,4):\n",
    "                if abs(dx)==3 and abs(dy)==3:\n",
    "                    continue\n",
    "                    \n",
    "                #print( \"idx=\", idx, \" len(quantities)=\",len(quantities), \" tube=\", tube, \" len(PMTFlatMap)=\", len(PMTFlatMapPositive))\n",
    "                preimage[ PMTFlatMapPositive[tube][1]+dx, PMTFlatMapPositive[tube][0]+dy ] = quantities[idx]\n",
    "\n",
    "    if cutrange[0] != cutrange[1]:\n",
    "        imgmin = cutrange[0]\n",
    "        imgmax = cutrange[1]\n",
    "    \n",
    "    plt.imshow( preimage, extent = [-1162.7,1162.7,-1267.7,1267.7], vmin=imgmin, vmax=imgmax )\n",
    "    fig.suptitle(title, fontsize=20)\n",
    "    plt.xlabel('Distance CCW on perimeter from x-axis (cm)', fontsize=18)\n",
    "    plt.ylabel('Y (cm)', fontsize=16)\n",
    "    \n",
    "    #plt.set_cmap('YlGnBu')\n",
    "    #plt.set_cmap('cubehelix_r')\n",
    "    #plt.set_cmap('gnuplot2_r')\n",
    "    \n",
    "    plt.set_cmap('gist_heat_r')\n",
    "    plt.colorbar()\n",
    "\n"
   ]
  },
  {
   "cell_type": "code",
   "execution_count": 10,
   "metadata": {},
   "outputs": [],
   "source": [
    "test_event_data = get_event_data_from_index(0)"
   ]
  },
  {
   "cell_type": "code",
   "execution_count": 15,
   "metadata": {},
   "outputs": [
    {
     "ename": "NameError",
     "evalue": "name 'PMTFlatMapPositive' is not defined",
     "output_type": "error",
     "traceback": [
      "\u001b[0;31m---------------------------------------------------------------------------\u001b[0m",
      "\u001b[0;31mNameError\u001b[0m                                 Traceback (most recent call last)",
      "\u001b[0;32m<ipython-input-15-77860e9050ed>\u001b[0m in \u001b[0;36m<module>\u001b[0;34m\u001b[0m\n\u001b[0;32m----> 1\u001b[0;31m \u001b[0mEventDisplay\u001b[0m\u001b[0;34m(\u001b[0m\u001b[0mmpmt_positions\u001b[0m\u001b[0;34m,\u001b[0m \u001b[0mtest_event_data\u001b[0m\u001b[0;34m)\u001b[0m\u001b[0;34m\u001b[0m\u001b[0;34m\u001b[0m\u001b[0m\n\u001b[0m",
      "\u001b[0;32m<ipython-input-12-3c0c03b604ff>\u001b[0m in \u001b[0;36mEventDisplay\u001b[0;34m(tubes, quantities, title, cutrange)\u001b[0m\n\u001b[1;32m     23\u001b[0m \u001b[0;34m\u001b[0m\u001b[0m\n\u001b[1;32m     24\u001b[0m                 \u001b[0;31m#print( \"idx=\", idx, \" len(quantities)=\",len(quantities), \" tube=\", tube, \" len(PMTFlatMap)=\", len(PMTFlatMapPositive))\u001b[0m\u001b[0;34m\u001b[0m\u001b[0;34m\u001b[0m\u001b[0;34m\u001b[0m\u001b[0m\n\u001b[0;32m---> 25\u001b[0;31m                 \u001b[0mpreimage\u001b[0m\u001b[0;34m[\u001b[0m \u001b[0mPMTFlatMapPositive\u001b[0m\u001b[0;34m[\u001b[0m\u001b[0mtube\u001b[0m\u001b[0;34m]\u001b[0m\u001b[0;34m[\u001b[0m\u001b[0;36m1\u001b[0m\u001b[0;34m]\u001b[0m\u001b[0;34m+\u001b[0m\u001b[0mdx\u001b[0m\u001b[0;34m,\u001b[0m \u001b[0mPMTFlatMapPositive\u001b[0m\u001b[0;34m[\u001b[0m\u001b[0mtube\u001b[0m\u001b[0;34m]\u001b[0m\u001b[0;34m[\u001b[0m\u001b[0;36m0\u001b[0m\u001b[0;34m]\u001b[0m\u001b[0;34m+\u001b[0m\u001b[0mdy\u001b[0m \u001b[0;34m]\u001b[0m \u001b[0;34m=\u001b[0m \u001b[0mquantities\u001b[0m\u001b[0;34m[\u001b[0m\u001b[0midx\u001b[0m\u001b[0;34m]\u001b[0m\u001b[0;34m\u001b[0m\u001b[0;34m\u001b[0m\u001b[0m\n\u001b[0m\u001b[1;32m     26\u001b[0m \u001b[0;34m\u001b[0m\u001b[0m\n\u001b[1;32m     27\u001b[0m     \u001b[0;32mif\u001b[0m \u001b[0mcutrange\u001b[0m\u001b[0;34m[\u001b[0m\u001b[0;36m0\u001b[0m\u001b[0;34m]\u001b[0m \u001b[0;34m!=\u001b[0m \u001b[0mcutrange\u001b[0m\u001b[0;34m[\u001b[0m\u001b[0;36m1\u001b[0m\u001b[0;34m]\u001b[0m\u001b[0;34m:\u001b[0m\u001b[0;34m\u001b[0m\u001b[0;34m\u001b[0m\u001b[0m\n",
      "\u001b[0;31mNameError\u001b[0m: name 'PMTFlatMapPositive' is not defined"
     ]
    },
    {
     "data": {
      "text/plain": [
       "<Figure size 864x864 with 0 Axes>"
      ]
     },
     "metadata": {},
     "output_type": "display_data"
    }
   ],
   "source": [
    "EventDisplay(mpmt_positions, test_event_data)"
   ]
  },
  {
   "cell_type": "code",
   "execution_count": 17,
   "metadata": {},
   "outputs": [
    {
     "ename": "FileNotFoundError",
     "evalue": "[Errno 2] No such file or directory: '/data/WatChMaL/data/IWCDmPMT_4pi_full_tank_mu-_E0to1000MeV_unif-pos-R371-y521cm_4pi-dir_3000evts_25.npz'",
     "output_type": "error",
     "traceback": [
      "\u001b[0;31m---------------------------------------------------------------------------\u001b[0m",
      "\u001b[0;31mFileNotFoundError\u001b[0m                         Traceback (most recent call last)",
      "\u001b[0;32m<ipython-input-17-12c87e4b78b7>\u001b[0m in \u001b[0;36m<module>\u001b[0;34m\u001b[0m\n\u001b[0;32m----> 1\u001b[0;31m \u001b[0mdatafile\u001b[0m \u001b[0;34m=\u001b[0m \u001b[0mnp\u001b[0m\u001b[0;34m.\u001b[0m\u001b[0mload\u001b[0m\u001b[0;34m(\u001b[0m\u001b[0;34m'/data/WatChMaL/data/IWCDmPMT_4pi_full_tank_mu-_E0to1000MeV_unif-pos-R371-y521cm_4pi-dir_3000evts_25.npz'\u001b[0m\u001b[0;34m,\u001b[0m\u001b[0mallow_pickle\u001b[0m\u001b[0;34m=\u001b[0m\u001b[0;32mTrue\u001b[0m\u001b[0;34m)\u001b[0m\u001b[0;34m\u001b[0m\u001b[0;34m\u001b[0m\u001b[0m\n\u001b[0m\u001b[1;32m      2\u001b[0m \u001b[0mgeofile\u001b[0m \u001b[0;34m=\u001b[0m \u001b[0mnp\u001b[0m\u001b[0;34m.\u001b[0m\u001b[0mload\u001b[0m\u001b[0;34m(\u001b[0m\u001b[0;34m'full_geo_dump.npz'\u001b[0m\u001b[0;34m,\u001b[0m\u001b[0mallow_pickle\u001b[0m\u001b[0;34m=\u001b[0m\u001b[0;32mTrue\u001b[0m\u001b[0;34m)\u001b[0m\u001b[0;34m\u001b[0m\u001b[0;34m\u001b[0m\u001b[0m\n",
      "\u001b[0;32m/opt/conda/lib/python3.6/site-packages/numpy/lib/npyio.py\u001b[0m in \u001b[0;36mload\u001b[0;34m(file, mmap_mode, allow_pickle, fix_imports, encoding)\u001b[0m\n\u001b[1;32m    414\u001b[0m             \u001b[0mown_fid\u001b[0m \u001b[0;34m=\u001b[0m \u001b[0;32mFalse\u001b[0m\u001b[0;34m\u001b[0m\u001b[0;34m\u001b[0m\u001b[0m\n\u001b[1;32m    415\u001b[0m         \u001b[0;32melse\u001b[0m\u001b[0;34m:\u001b[0m\u001b[0;34m\u001b[0m\u001b[0;34m\u001b[0m\u001b[0m\n\u001b[0;32m--> 416\u001b[0;31m             \u001b[0mfid\u001b[0m \u001b[0;34m=\u001b[0m \u001b[0mstack\u001b[0m\u001b[0;34m.\u001b[0m\u001b[0menter_context\u001b[0m\u001b[0;34m(\u001b[0m\u001b[0mopen\u001b[0m\u001b[0;34m(\u001b[0m\u001b[0mos_fspath\u001b[0m\u001b[0;34m(\u001b[0m\u001b[0mfile\u001b[0m\u001b[0;34m)\u001b[0m\u001b[0;34m,\u001b[0m \u001b[0;34m\"rb\"\u001b[0m\u001b[0;34m)\u001b[0m\u001b[0;34m)\u001b[0m\u001b[0;34m\u001b[0m\u001b[0;34m\u001b[0m\u001b[0m\n\u001b[0m\u001b[1;32m    417\u001b[0m             \u001b[0mown_fid\u001b[0m \u001b[0;34m=\u001b[0m \u001b[0;32mTrue\u001b[0m\u001b[0;34m\u001b[0m\u001b[0;34m\u001b[0m\u001b[0m\n\u001b[1;32m    418\u001b[0m \u001b[0;34m\u001b[0m\u001b[0m\n",
      "\u001b[0;31mFileNotFoundError\u001b[0m: [Errno 2] No such file or directory: '/data/WatChMaL/data/IWCDmPMT_4pi_full_tank_mu-_E0to1000MeV_unif-pos-R371-y521cm_4pi-dir_3000evts_25.npz'"
     ]
    }
   ],
   "source": [
    "datafile = np.load('/data/WatChMaL/data/IWCDmPMT_4pi_full_tank_mu-_E0to1000MeV_unif-pos-R371-y521cm_4pi-dir_3000evts_25.npz', allow_pickle=True)\n",
    "geofile = np.load('full_geo_dump.npz',allow_pickle=True)"
   ]
  },
  {
   "cell_type": "code",
   "execution_count": null,
   "metadata": {},
   "outputs": [],
   "source": [
    "tube_xyz = geofile[ 'position' ]\n"
   ]
  },
  {
   "cell_type": "code",
   "execution_count": null,
   "metadata": {},
   "outputs": [],
   "source": []
  }
 ],
 "metadata": {
  "kernelspec": {
   "display_name": "Python 3",
   "language": "python",
   "name": "python3"
  },
  "language_info": {
   "codemirror_mode": {
    "name": "ipython",
    "version": 3
   },
   "file_extension": ".py",
   "mimetype": "text/x-python",
   "name": "python",
   "nbconvert_exporter": "python",
   "pygments_lexer": "ipython3",
   "version": "3.6.10"
  }
 },
 "nbformat": 4,
 "nbformat_minor": 4
}
