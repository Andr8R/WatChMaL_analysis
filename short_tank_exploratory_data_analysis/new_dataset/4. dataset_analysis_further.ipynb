{
 "cells": [
  {
   "cell_type": "markdown",
   "metadata": {},
   "source": [
    "# Analyzing Training, Validation, and Testing Sets\n",
    "Plotting some distributions of the test set."
   ]
  },
  {
   "cell_type": "code",
   "execution_count": 2,
   "metadata": {},
   "outputs": [],
   "source": [
    "import sys\n",
    "import os\n",
    "import h5py\n",
    "from collections import Counter\n",
    "from progressbar import *\n",
    "import re\n",
    "import numpy as np\n",
    "from scipy import signal\n",
    "import matplotlib.pyplot as plt\n",
    "#from watchmal.testing.repeating_classifier_training_utils import *\n",
    "from functools import reduce\n",
    "\n",
    "# Add the path to the parent directory to augment search for module\n",
    "par_dir = os.path.abspath(os.path.join(os.getcwd(), os.pardir))\n",
    "\n",
    "if par_dir not in sys.path:\n",
    "    sys.path.append(par_dir)\n",
    "\n",
    "sys.path.append(\"../..\")\n",
    "sys.path.append(\"..\")\n",
    "\n",
    "from short_tank_exploratory_data_analysis.exploratory_data_analysis_utils import *\n",
    "\n",
    "%load_ext autoreload\n",
    "%matplotlib inline\n",
    "%autoreload 2\n",
    "\n",
    "from IPython.display import HTML"
   ]
  },
  {
   "cell_type": "markdown",
   "metadata": {},
   "source": [
    "## Load Data"
   ]
  },
  {
   "cell_type": "code",
   "execution_count": 3,
   "metadata": {},
   "outputs": [
    {
     "name": "stdout",
     "output_type": "stream",
     "text": [
      "<KeysViewHDF5 ['angles', 'energies', 'event_hits_index', 'event_ids', 'hit_charge', 'hit_pmt', 'hit_time', 'labels', 'positions', 'root_files', 'veto', 'veto2']>\n"
     ]
    }
   ],
   "source": [
    "# Import test events from h5 file\n",
    "\n",
    "original_data_path = \"/data/WatChMaL/data/IWCD_mPMT_Short_e-mu-gamma_E0to1000MeV_digihits.h5\"\n",
    "data_file = h5py.File(original_data_path, \"r\")\n",
    "\n",
    "print(data_file.keys())\n",
    "\n",
    "hdf5_hit_pmt    = data_file[\"hit_pmt\"]\n",
    "hdf5_hit_time   = data_file[\"hit_time\"]\n",
    "hdf5_hit_charge = data_file[\"hit_charge\"]\n",
    "\n",
    "\n",
    "hit_pmt    = np.memmap(original_data_path, mode=\"r\", shape=hdf5_hit_pmt.shape,\n",
    "                                    offset=hdf5_hit_pmt.id.get_offset(), dtype=hdf5_hit_pmt.dtype)\n",
    "\n",
    "hit_time   = np.memmap(original_data_path, mode=\"r\", shape=hdf5_hit_time.shape,\n",
    "                                    offset=hdf5_hit_time.id.get_offset(), dtype=hdf5_hit_time.dtype)\n",
    "\n",
    "hit_charge = np.memmap(original_data_path, mode=\"r\", shape=hdf5_hit_charge.shape,\n",
    "                                    offset=hdf5_hit_charge.id.get_offset(), dtype=hdf5_hit_charge.dtype)\n",
    "\n",
    "angles     = np.array(data_file['angles'])\n",
    "energies   = np.array(data_file['energies'])\n",
    "positions  = np.array(data_file['positions'])\n",
    "labels     = np.array(data_file['labels'])\n",
    "root_files = np.array(data_file['root_files'])\n",
    "\n",
    "#original_radius = [np.sqrt(original_positions[i,0,0]**2 + original_positions[i,0,2]**2) for i in range(original_positions.shape[0])]\n"
   ]
  },
  {
   "cell_type": "markdown",
   "metadata": {},
   "source": [
    "## Split Datasets"
   ]
  },
  {
   "cell_type": "code",
   "execution_count": 4,
   "metadata": {},
   "outputs": [],
   "source": [
    "idxs_path = '/home/jtindall/WatChMaL_analysis/short_tank_exploratory_data_analysis/new_dataset/new_dataset_data/equal_indices.npz'\n",
    "idxs = np.load(idxs_path, allow_pickle=True)\n",
    "\n",
    "train_idxs = idxs['train_idxs']\n",
    "val_idxs   = idxs['val_idxs']\n",
    "test_idxs  = idxs['test_idxs']"
   ]
  },
  {
   "cell_type": "code",
   "execution_count": 5,
   "metadata": {},
   "outputs": [
    {
     "name": "stdout",
     "output_type": "stream",
     "text": [
      "Done train info\n",
      "Done val info\n",
      "Done test info\n"
     ]
    }
   ],
   "source": [
    "train_angles    = angles[train_idxs]\n",
    "train_energies  = energies[train_idxs]\n",
    "train_positions = positions[train_idxs]\n",
    "train_labels    = labels[train_idxs]\n",
    "\n",
    "train_info = {'name':'Training Set','energies':train_energies,'positions':train_positions, \n",
    "              'angles':train_angles, 'labels':train_labels}\n",
    "\n",
    "print(\"Done train info\")\n",
    "\n",
    "val_angles     = angles[val_idxs]\n",
    "val_energies   = energies[val_idxs]\n",
    "val_positions  = positions[val_idxs]\n",
    "val_labels     = labels[val_idxs]\n",
    "\n",
    "val_info = {'name':'Validation Set','energies':val_energies,'positions':val_positions, \n",
    "            'angles':val_angles, 'labels':val_labels}\n",
    "\n",
    "print(\"Done val info\")\n",
    "\n",
    "test_angles    = angles[test_idxs]\n",
    "test_energies  = energies[test_idxs]\n",
    "test_positions = positions[test_idxs]\n",
    "test_labels    = labels[test_idxs]\n",
    "test_info = {'name':'Test Set','energies':test_energies,'positions':test_positions, \n",
    "             'angles':test_angles, 'labels':test_labels}\n",
    "\n",
    "print(\"Done test info\")\n"
   ]
  },
  {
   "cell_type": "code",
   "execution_count": 6,
   "metadata": {},
   "outputs": [
    {
     "data": {
      "text/plain": [
       "\"\\ntrain_radius    = [np.sqrt(train_positions[i,0,0]**2 + train_positions[i,0,2]**2) for i in range(train_positions.shape[0])]\\nval_radius     = [np.sqrt(val_positions[i,0,0]**2 + val_positions[i,0,2]**2) for i in range(val_positions.shape[0])]\\ntest_radius    = [np.sqrt(test_positions[i,0,0]**2 + test_positions[i,0,2]**2) for i in range(test_positions.shape[0])]\\n\\nnp.savez('./new_dataset_data/event_radii.npz', train_radii=train_info['radius'], val_radii=val_info['radius'], test_radii=test_info['radius'])\\n\""
      ]
     },
     "execution_count": 6,
     "metadata": {},
     "output_type": "execute_result"
    }
   ],
   "source": [
    "\"\"\"\n",
    "train_radius    = [np.sqrt(train_positions[i,0,0]**2 + train_positions[i,0,2]**2) for i in range(train_positions.shape[0])]\n",
    "val_radius     = [np.sqrt(val_positions[i,0,0]**2 + val_positions[i,0,2]**2) for i in range(val_positions.shape[0])]\n",
    "test_radius    = [np.sqrt(test_positions[i,0,0]**2 + test_positions[i,0,2]**2) for i in range(test_positions.shape[0])]\n",
    "\n",
    "np.savez('./new_dataset_data/event_radii.npz', train_radii=train_info['radius'], val_radii=val_info['radius'], test_radii=test_info['radius'])\n",
    "\"\"\""
   ]
  },
  {
   "cell_type": "code",
   "execution_count": 7,
   "metadata": {},
   "outputs": [],
   "source": [
    "f = np.load('./new_dataset_data/event_radii.npz', allow_pickle=True)\n",
    "\n",
    "train_info['radius'] = f['train_radii']\n",
    "val_info['radius']   = f['val_radii']\n",
    "test_info['radius']  = f['test_radii']"
   ]
  },
  {
   "cell_type": "code",
   "execution_count": 8,
   "metadata": {},
   "outputs": [],
   "source": [
    "dataset_info = [train_info,val_info,test_info]"
   ]
  },
  {
   "cell_type": "markdown",
   "metadata": {},
   "source": [
    "# Initialize Event Parameters"
   ]
  },
  {
   "cell_type": "code",
   "execution_count": 9,
   "metadata": {},
   "outputs": [],
   "source": [
    "barrel_map_array_idxs = [6, 7, 8, 9, 10, 11, 0, 1, 2, 3, 4, 5, 15, 16, 17, 12, 13, 14, 18]\n",
    "pmts_per_mpmt = 19\n",
    "\n",
    "event_hits_index = np.append(data_file[\"event_hits_index\"], hdf5_hit_pmt.shape[0]).astype(np.int64)\n",
    "\n",
    "mpmt_positions_file = '/data/WatChMaL/data/IWCDshort_mPMT_image_positions.npz'\n",
    "mpmt_positions   = np.load(mpmt_positions_file)['mpmt_image_positions']\n",
    "\n",
    "data_size = np.max(mpmt_positions, axis=0) + 1\n",
    "n_channels = pmts_per_mpmt\n",
    "data_size = np.insert(data_size, 0, n_channels)"
   ]
  },
  {
   "cell_type": "code",
   "execution_count": 10,
   "metadata": {},
   "outputs": [],
   "source": [
    "GAMMA_THRESHOLD = 1.55\n",
    "ELECTRON_THRESHOLD = 0.775\n",
    "MUON_THRESHOLD = 160.26"
   ]
  },
  {
   "cell_type": "code",
   "execution_count": 11,
   "metadata": {},
   "outputs": [],
   "source": [
    "shifted_energies = []\n",
    "for idx in range(3):\n",
    "    shifted_energies.append(np.zeros(dataset_info[idx]['labels'].shape[0]))\n",
    "    \n",
    "    g_idxs = np.where(dataset_info[idx]['labels']==0)[0]\n",
    "    e_idxs = np.where(dataset_info[idx]['labels']==1)[0]\n",
    "    m_idxs = np.where(dataset_info[idx]['labels']==2)[0]\n",
    "    \n",
    "    shifted_energies[idx][g_idxs] = np.squeeze(dataset_info[idx]['energies'][g_idxs] - GAMMA_THRESHOLD)\n",
    "    shifted_energies[idx][e_idxs] = np.squeeze(dataset_info[idx]['energies'][e_idxs] - ELECTRON_THRESHOLD)\n",
    "    shifted_energies[idx][m_idxs] = np.squeeze(dataset_info[idx]['energies'][m_idxs] - MUON_THRESHOLD)"
   ]
  },
  {
   "cell_type": "code",
   "execution_count": null,
   "metadata": {},
   "outputs": [],
   "source": [
    "plt.figure()\n",
    "fig,axes = plt.subplots(2,2,figsize=(15,15))\n",
    "axes = axes.flatten()\n",
    "ax = axes[0]\n",
    "\n",
    "plot_compare_dists([np.squeeze(data['energies']) for data in dataset_info], [1,2],[0,0],\n",
    "                   ['Total Energy, {}'.format(data['name'])for data in dataset_info],\n",
    "                   colors=('b','r','y'),ratio_range=[0.98,1.02],title='Normalized Total Energy Distribution',\n",
    "                   xlabel='Energy (MeV)',axes=axes[[0,2]]\n",
    "                  )\n",
    "\n",
    "plot_compare_dists([shifted_energies[i] for i in range(3)], [1,2],[0,0],\n",
    "                   ['E above Ch. Th., {}'.format(data['name'])for data in dataset_info],\n",
    "                   colors=('b','r','y'),ratio_range=[0.98,1.02],title='Normalized Distribution of Energy Above Cherenkov Threshold',\n",
    "                   xlabel='Energy (MeV)',axes=axes[[1,3]]\n",
    "                  )"
   ]
  },
  {
   "cell_type": "markdown",
   "metadata": {},
   "source": [
    "# Distribution of event energies by dataset and particle type"
   ]
  },
  {
   "cell_type": "code",
   "execution_count": null,
   "metadata": {},
   "outputs": [],
   "source": [
    "train_e_idxs = np.where(dataset_info[0]['labels']==1)[0]\n",
    "val_e_idxs   = np.where(dataset_info[1]['labels']==1)[0]\n",
    "test_e_idxs  = np.where(dataset_info[2]['labels']==1)[0]\n",
    "\n",
    "train_e_energies = dataset_info[0]['energies'][train_e_idxs]\n",
    "val_e_energies   = dataset_info[1]['energies'][val_e_idxs]\n",
    "test_e_energies  = dataset_info[2]['energies'][test_e_idxs]\n",
    "\n",
    "shifted_train_e_energies = shifted_energies[0][train_e_idxs]\n",
    "shifted_val_e_energies   = shifted_energies[1][val_e_idxs]\n",
    "shifted_test_e_energies  = shifted_energies[2][test_e_idxs]\n",
    "\n",
    "e_energies = np.concatenate((train_e_energies, val_e_energies, test_e_energies))\n",
    "shifted_e_energies = np.concatenate((shifted_train_e_energies, shifted_val_e_energies, shifted_test_e_energies))\n",
    "\n",
    "\n",
    "\n",
    "train_g_idxs = np.where(dataset_info[0]['labels']==0)[0]\n",
    "val_g_idxs   = np.where(dataset_info[1]['labels']==0)[0]\n",
    "test_g_idxs  = np.where(dataset_info[2]['labels']==0)[0]\n",
    "\n",
    "train_g_energies = dataset_info[0]['energies'][train_g_idxs]\n",
    "val_g_energies   = dataset_info[1]['energies'][val_g_idxs]\n",
    "test_g_energies  = dataset_info[2]['energies'][test_g_idxs]\n",
    "\n",
    "shifted_train_g_energies = shifted_energies[0][train_g_idxs]\n",
    "shifted_val_g_energies   = shifted_energies[1][val_g_idxs]\n",
    "shifted_test_g_energies  = shifted_energies[2][test_g_idxs]\n",
    "\n",
    "g_energies = np.concatenate((train_g_energies, val_g_energies, test_g_energies))\n",
    "shifted_g_energies = np.concatenate((shifted_train_g_energies, shifted_val_g_energies, shifted_test_g_energies))\n",
    "\n",
    "\n",
    "\n",
    "train_m_idxs = np.where(dataset_info[0]['labels']==2)[0]\n",
    "val_m_idxs   = np.where(dataset_info[1]['labels']==2)[0]\n",
    "test_m_idxs  = np.where(dataset_info[2]['labels']==2)[0]\n",
    "\n",
    "train_m_energies = dataset_info[0]['energies'][train_m_idxs]\n",
    "val_m_energies   = dataset_info[1]['energies'][val_m_idxs]\n",
    "test_m_energies  = dataset_info[2]['energies'][test_m_idxs]\n",
    "\n",
    "shifted_train_m_energies = shifted_energies[0][train_m_idxs]\n",
    "shifted_val_m_energies   = shifted_energies[1][val_m_idxs]\n",
    "shifted_test_m_energies  = shifted_energies[2][test_m_idxs]\n",
    "\n",
    "m_energies = np.concatenate((train_m_energies, val_m_energies, test_m_energies))\n",
    "shifted_m_energies = np.concatenate((shifted_train_m_energies, shifted_val_m_energies, shifted_test_m_energies))"
   ]
  },
  {
   "cell_type": "code",
   "execution_count": null,
   "metadata": {},
   "outputs": [],
   "source": [
    "fig = plot_compare_dists([np.squeeze(train_e_energies), \n",
    "                          np.squeeze(val_e_energies), \n",
    "                          np.squeeze(test_e_energies), \n",
    "                          np.squeeze(train_g_energies), \n",
    "                          np.squeeze(val_g_energies), \n",
    "                          np.squeeze(test_g_energies),  \n",
    "                          np.squeeze(train_m_energies), \n",
    "                          np.squeeze(val_m_energies), \n",
    "                          np.squeeze(test_m_energies)],\n",
    "                    [0,1,2],[3,4,5],['Electron, Training Set', 'Electron, Validation Set', 'Electron, Test Set',\n",
    "                                     'Gamma, Training Set', 'Gamma, Validation Set', 'Gamma, Test Set',\n",
    "                                     'Muon, Training Set', 'Muon, Validation Set', 'Muon, Test Set'],\n",
    "                    ratio_range=[0,2],title='Distribution of Event Energy by Particle Type and Dataset (Normalized)', colors=['r','r','r','b','b','b','c','c','c'],\n",
    "                    linestyle=['-','--',':','-','--',':','-','--',':'], xlabel='Energy (MeV)'\n",
    "                    )\n"
   ]
  },
  {
   "cell_type": "code",
   "execution_count": null,
   "metadata": {},
   "outputs": [],
   "source": [
    "fig = plot_compare_dists([np.squeeze(shifted_train_e_energies), \n",
    "                          np.squeeze(shifted_val_e_energies), \n",
    "                          np.squeeze(shifted_test_e_energies), \n",
    "                          np.squeeze(shifted_train_g_energies), \n",
    "                          np.squeeze(shifted_val_g_energies), \n",
    "                          np.squeeze(shifted_test_g_energies),  \n",
    "                          np.squeeze(shifted_train_m_energies), \n",
    "                          np.squeeze(shifted_val_m_energies), \n",
    "                          np.squeeze(shifted_test_m_energies)],\n",
    "                    [0,1,2],[3,4,5],['Electron, Training Set', 'Electron, Validation Set', 'Electron, Test Set',\n",
    "                                     'Gamma, Training Set', 'Gamma, Validation Set', 'Gamma, Test Set',\n",
    "                                     'Muon, Training Set', 'Muon, Validation Set', 'Muon, Test Set'],\n",
    "                    ratio_range=[0,2],title='Distribution of Event Energy Above Cherenkov Threshold by Particle Type and Dataset (Normalized)', colors=['r','r','r','b','b','b','c','c','c'],\n",
    "                    linestyle=['-','--',':','-','--',':','-','--',':'], xlabel='Energy (MeV)'\n",
    "                    )\n"
   ]
  },
  {
   "cell_type": "markdown",
   "metadata": {},
   "source": [
    "# Distribution of event energies by particle type"
   ]
  },
  {
   "cell_type": "code",
   "execution_count": null,
   "metadata": {},
   "outputs": [],
   "source": [
    "plt.figure()\n",
    "fig,axes = plt.subplots(2,2,figsize=(15,15))\n",
    "axes = axes.flatten()\n",
    "ax = axes[0]\n",
    "\n",
    "plot_compare_dists([np.squeeze(e_energies), \n",
    "                    np.squeeze(g_energies), \n",
    "                    np.squeeze(m_energies)],\n",
    "                   [1,2],[0,0],\n",
    "                   ['Total Energy, {}'.format(name)for name in ['electron', 'gamma', 'muon']],\n",
    "                   colors=('b','r','y'),ratio_range=[0.98,1.02],title='Normalized Total Energy Distribution',\n",
    "                   xlabel='Energy (MeV)',axes=axes[[0,2]]\n",
    "                  )\n",
    "\n",
    "plot_compare_dists([np.squeeze(shifted_e_energies), \n",
    "                    np.squeeze(shifted_g_energies), \n",
    "                    np.squeeze(shifted_m_energies)],\n",
    "                   [1,2],[0,0],\n",
    "                   ['Total Energy, {}'.format(name)for name in ['electron', 'gamma', 'muon']],\n",
    "                   colors=('b','r','y'),ratio_range=[0.98,1.02],title='Normalized Total Energy Distribution',\n",
    "                   xlabel='Energy (MeV)',axes=axes[[1,3]]\n",
    "                  )"
   ]
  },
  {
   "cell_type": "markdown",
   "metadata": {},
   "source": [
    "# Distribution of total charge"
   ]
  },
  {
   "cell_type": "code",
   "execution_count": null,
   "metadata": {},
   "outputs": [],
   "source": [
    "\"\"\"\n",
    "total_charge = []\n",
    "\n",
    "pbar = ProgressBar(widgets=['Calculating Total Charge for Training Set. Progress: ', Percentage(), ' ', Bar(marker='0',left='[',right=']'),\n",
    "            ' ', ETA()], maxval=len(train_idxs))\n",
    "\n",
    "pbar.start()\n",
    "for i in range(len(train_idxs)):\n",
    "    pbar.update(i)\n",
    "    \n",
    "    item = train_idxs[i]\n",
    "    start = event_hits_index[item]\n",
    "    stop  = event_hits_index[item + 1]\n",
    "    charge = hit_charge[start:stop]\n",
    "    \n",
    "    total_charge.append(np.sum(charge))\n",
    "pbar.finish()\n",
    "\n",
    "dataset_info[0]['total_charge'] = np.array(total_charge)\n",
    "\n",
    "np.savez('./new_dataset_data/training_set_total_charge.npz', total_charge=dataset_info[0]['total_charge'])\n",
    "\"\"\""
   ]
  },
  {
   "cell_type": "code",
   "execution_count": null,
   "metadata": {},
   "outputs": [],
   "source": [
    "\"\"\"\n",
    "total_charge = []\n",
    "\n",
    "pbar = ProgressBar(widgets=['Calculating Total Charge for Validation Set. Progress: ', Percentage(), ' ', Bar(marker='0',left='[',right=']'),\n",
    "           ' ', ETA()], maxval=len(val_idxs))\n",
    "\n",
    "pbar.start()\n",
    "for i in range(len(val_idxs)):\n",
    "    pbar.update(i)\n",
    "    \n",
    "    item = val_idxs[i]\n",
    "    start = event_hits_index[item]\n",
    "    stop  = event_hits_index[item + 1]\n",
    "    charge = hit_charge[start:stop]\n",
    "    \n",
    "    total_charge.append(np.sum(charge))\n",
    "pbar.finish()\n",
    "\n",
    "dataset_info[1]['total_charge'] = np.array(total_charge)\n",
    "\n",
    "np.savez('./new_dataset_data/validation_set_total_charge.npz', total_charge=dataset_info[1]['total_charge'])\n",
    "\"\"\""
   ]
  },
  {
   "cell_type": "code",
   "execution_count": null,
   "metadata": {},
   "outputs": [],
   "source": [
    "dataset_info[0]['total_charge'] = np.load('./new_dataset_data/training_set_total_charge.npz',allow_pickle=True)['total_charge']\n",
    "dataset_info[1]['total_charge'] = np.load('./new_dataset_data/validation_set_total_charge.npz',allow_pickle=True)['total_charge']"
   ]
  },
  {
   "cell_type": "code",
   "execution_count": null,
   "metadata": {},
   "outputs": [],
   "source": [
    "plt.figure()\n",
    "fig,axes = plt.subplots(2,2,figsize=(15,15))\n",
    "axes = axes.flatten()\n",
    "\n",
    "N_BINS = 40\n",
    "for i in range(2):\n",
    "    g_idxs = np.where(dataset_info[i]['labels']==0)[0]\n",
    "    e_idxs = np.where(dataset_info[i]['labels']==1)[0]\n",
    "    m_idxs = np.where(dataset_info[i]['labels']==2)[0]\n",
    "    \n",
    "    plot_compare_dists((dataset_info[i]['total_charge']/10**6,\n",
    "                         dataset_info[i]['total_charge'][g_idxs]/10**6,\n",
    "                         dataset_info[i]['total_charge'][e_idxs]/10**6,\n",
    "                         dataset_info[i]['total_charge'][m_idxs]/10**6),\n",
    "                         [1,3],[2,2], ['All Particles, {}'.format(dataset_info[i]['name']), 'Gamma, {}'.format(dataset_info[i]['name']),\n",
    "                         'Electron, {}'.format(dataset_info[i]['name']),'Muon, {}'.format(dataset_info[i]['name'])],\n",
    "                         colors = ('k','r','m','y'), axes = axes[[i,i+2]],\n",
    "                         title='Normalized Total Charge Distribution, {}'.format(dataset_info[i]['name']),\n",
    "                         xlabel='Total Charge, 10^6', verbose=True\n",
    "                           )"
   ]
  },
  {
   "cell_type": "code",
   "execution_count": null,
   "metadata": {},
   "outputs": [],
   "source": [
    "train_g_idxs = np.where(dataset_info[0]['labels']==0)[0]\n",
    "train_e_idxs = np.where(dataset_info[0]['labels']==1)[0]\n",
    "train_m_idxs = np.where(dataset_info[0]['labels']==2)[0]\n",
    "\n",
    "val_g_idxs = np.where(dataset_info[1]['labels']==0)[0]\n",
    "val_e_idxs = np.where(dataset_info[1]['labels']==1)[0]\n",
    "val_m_idxs = np.where(dataset_info[1]['labels']==2)[0]\n",
    "\n",
    "fig = plot_compare_dists([\n",
    "                    dataset_info[0]['total_charge'][train_g_idxs],dataset_info[0]['total_charge'][train_e_idxs],\n",
    "                    dataset_info[0]['total_charge'][train_m_idxs],dataset_info[1]['total_charge'][val_g_idxs],\n",
    "                    dataset_info[1]['total_charge'][val_e_idxs],dataset_info[1]['total_charge'][val_m_idxs]],\n",
    "                    [0,1,2],[3,4,5],\n",
    "                    ['Gamma, Training Set', 'Electron, Training Set', \n",
    "                     'Muon, Training Set', 'Gamma, Validation Set', \n",
    "                     'Electron, Validation Set', 'Muon, Validation Set'],\n",
    "                    ratio_range=[0,2],title='Normalized Distribution of Event Total Charge',\n",
    "                    colors=['r','m','y','b','c','k'],\n",
    "                    linestyle=['-','-','-','--','--','--'],\n",
    "                    xlabel='Total Charge',\n",
    "                    verbose=True\n",
    "                    )\n"
   ]
  },
  {
   "cell_type": "markdown",
   "metadata": {},
   "source": [
    "# High Resolution"
   ]
  },
  {
   "cell_type": "code",
   "execution_count": null,
   "metadata": {},
   "outputs": [],
   "source": [
    "# Find all events in the leftmost bin\n",
    "train_left_bin_bound = 5.94362375e02\n",
    "left_train_g_idxs = train_g_idxs[dataset_info[0]['total_charge'][train_g_idxs] < train_left_bin_bound]\n",
    "left_train_e_idxs = train_e_idxs[dataset_info[0]['total_charge'][train_e_idxs] < train_left_bin_bound]\n",
    "left_train_m_idxs = train_m_idxs[dataset_info[0]['total_charge'][train_m_idxs] < train_left_bin_bound]\n",
    "\n",
    "val_left_bin_bound = 5.94362375e02\n",
    "left_val_g_idxs = val_g_idxs[dataset_info[1]['total_charge'][val_g_idxs] < val_left_bin_bound]\n",
    "left_val_e_idxs = val_e_idxs[dataset_info[1]['total_charge'][val_e_idxs] < val_left_bin_bound]\n",
    "left_val_m_idxs = val_m_idxs[dataset_info[1]['total_charge'][val_m_idxs] < val_left_bin_bound]\n",
    "\n",
    "\n",
    "fig = plot_compare_dists([\n",
    "                    dataset_info[0]['total_charge'][left_train_g_idxs], dataset_info[1]['total_charge'][left_val_g_idxs],\n",
    "                    dataset_info[0]['total_charge'][left_train_e_idxs], dataset_info[1]['total_charge'][left_val_e_idxs],\n",
    "                    dataset_info[0]['total_charge'][left_train_m_idxs], dataset_info[1]['total_charge'][left_val_m_idxs]],\n",
    "                    [0,1,2],[3,4,5],['Gamma, Training Set', 'Gamma, Validation Set',\n",
    "                                     'Electron, Training Set', 'Electron, Validation Set',\n",
    "                                     'Muon, Training Set', 'Muon, Validation Set'],\n",
    "                    ratio_range=[0,2],title='Normalized Distribution of Event Total Charge',colors=['r','m','y','b','c','k'],\n",
    "                    linestyle=['-','-','-','--','--','--'],\n",
    "                    xlabel='Total Charge (log scale)',\n",
    "                    xscale='log',\n",
    "                    loc='upper left'\n",
    "                    )\n",
    "\"\"\"\n",
    "\n",
    "fig = plot_compare_dists([\n",
    "                    dataset_info[0]['total_charge'][left_train_g_idxs], dataset_info[1]['total_charge'][left_val_g_idxs],\n",
    "                    dataset_info[0]['total_charge'][left_train_e_idxs], dataset_info[1]['total_charge'][left_val_e_idxs],\n",
    "                    dataset_info[0]['total_charge'][left_train_m_idxs], dataset_info[1]['total_charge'][left_val_m_idxs]],\n",
    "                    [0,1,2],[3,4,5],['Gamma, Training Set', 'Electron, Training Set', 'Muon, Training Set',\n",
    "                                     'Gamma, Validation Set', 'Electron, Validation Set', 'Muon, Validation Set'],\n",
    "                    ratio_range=[0,2],title='Normalized Distribution of Event Total Charge',colors=['r','m','y','b','c','k'],\n",
    "                    linestyle=['-','-','-','--','--','--'],xlabel='Total Charge, 10^6',\n",
    "                    xscale='log'\n",
    "                    )\n",
    "\"\"\""
   ]
  },
  {
   "cell_type": "markdown",
   "metadata": {},
   "source": [
    "# Event Examination"
   ]
  },
  {
   "cell_type": "code",
   "execution_count": null,
   "metadata": {},
   "outputs": [],
   "source": [
    "from WatChMaL.analysis.plot_utils import get_plot_array\n",
    "\n",
    "def get_event_data_from_index(item):\n",
    "    start = event_hits_index[item]\n",
    "    stop  = event_hits_index[item + 1]\n",
    "\n",
    "    hit_pmts    = hit_pmt[start:stop].astype(np.int16)\n",
    "    hit_charges = hit_charge[start:stop]\n",
    "    hit_times   = hit_time[start:stop]\n",
    "\n",
    "    hit_mpmts = hit_pmts // pmts_per_mpmt\n",
    "    hit_pmt_in_modules = hit_pmts % pmts_per_mpmt\n",
    "\n",
    "    hit_rows = mpmt_positions[hit_mpmts, 0]\n",
    "    hit_cols = mpmt_positions[hit_mpmts, 1]\n",
    "\n",
    "    sample_data = np.zeros(data_size)\n",
    "    sample_data[hit_pmt_in_modules, hit_rows, hit_cols] = hit_charges\n",
    "\n",
    "    # fix barrel array indexing to match endcaps in xyz ordering\n",
    "    sample_data[:, 12:28, :] = sample_data[barrel_map_array_idxs, 12:28, :]\n",
    "    moved_data = np.moveaxis(sample_data, 0, -1)\n",
    "    return moved_data"
   ]
  },
  {
   "cell_type": "code",
   "execution_count": null,
   "metadata": {},
   "outputs": [],
   "source": [
    "left_train_event_indices = np.concatenate((left_train_g_idxs, left_train_e_idxs, left_train_m_idxs))\n",
    "left_train_event_charges = np.concatenate((dataset_info[0]['total_charge'][left_train_g_idxs], \n",
    "                                           dataset_info[0]['total_charge'][left_train_e_idxs],\n",
    "                                           dataset_info[0]['total_charge'][left_train_m_idxs]))\n",
    "\n",
    "# get some random indices\n",
    "#random_indices = np.random.choice(left_train_event_indices.shape[0], 5, replace=False)\n",
    "#print(random_indices)\n",
    "random_indices = [310867,  39009, 540224, 538982,   3266]"
   ]
  },
  {
   "cell_type": "code",
   "execution_count": null,
   "metadata": {},
   "outputs": [],
   "source": [
    "sample_event_indices = left_train_event_indices[random_indices]\n",
    "sample_event_charges = left_train_event_charges[random_indices]"
   ]
  },
  {
   "cell_type": "code",
   "execution_count": null,
   "metadata": {},
   "outputs": [],
   "source": []
  },
  {
   "cell_type": "code",
   "execution_count": null,
   "metadata": {},
   "outputs": [],
   "source": [
    "event_data_dict = {0:'Gamma', 1:'Electron', 2:'Muon'}\n",
    "\n",
    "for event_index, event_charge in zip(sample_event_indices, sample_event_charges):\n",
    "    event_data = get_event_data_from_index(event_index)\n",
    "    event_label = dataset_info[0]['labels'][event_index]\n",
    "    \n",
    "    fig, axes = plt.subplots(1,1,figsize=(25,25),facecolor='w')\n",
    "    ax = axes\n",
    "\n",
    "    cmap = plt.cm.viridis\n",
    "    cmap.set_bad(color='black')\n",
    "\n",
    "    a = get_plot_array(event_data)\n",
    "    a = np.ma.masked_where(a < 0.05, a)\n",
    "\n",
    "    b = ax.imshow(a, \n",
    "              origin=\"upper\",\n",
    "              cmap=cmap)\n",
    "    \n",
    "    #fig.colorbar(b, cmap=cmap, ax=ax)\n",
    "\n",
    "    ax.set_title('{} Event Data, with charge {} in mPMT'.format(event_data_dict[event_label], event_charge),fontsize=20,fontweight='bold')\n",
    "    plt.show()"
   ]
  },
  {
   "cell_type": "markdown",
   "metadata": {},
   "source": [
    "# Max PMT Charge"
   ]
  },
  {
   "cell_type": "code",
   "execution_count": null,
   "metadata": {},
   "outputs": [],
   "source": [
    "\"\"\"\n",
    "total_charge = []\n",
    "\n",
    "pbar = ProgressBar(widgets=['Calculating Max Charge for Training Set. Progress: ', Percentage(), ' ', Bar(marker='0',left='[',right=']'),\n",
    "            ' ', ETA()], maxval=len(train_idxs))\n",
    "\n",
    "pbar.start()\n",
    "for i in range(len(train_idxs)):\n",
    "    pbar.update(i)\n",
    "    \n",
    "    item = train_idxs[i]\n",
    "    start = event_hits_index[item]\n",
    "    stop  = event_hits_index[item + 1]\n",
    "    charge = hit_charge[start:stop]\n",
    "    \n",
    "    max_charge = np.max(charge)\n",
    "    \n",
    "    total_charge.append(max_charge)\n",
    "pbar.finish()\n",
    "\n",
    "dataset_info[0]['max_charge'] = np.array(total_charge)\n",
    "\n",
    "np.savez('./new_dataset_data/training_set_max_charge.npz', max_charge = dataset_info[0]['max_charge'])\n",
    "\"\"\""
   ]
  },
  {
   "cell_type": "code",
   "execution_count": null,
   "metadata": {},
   "outputs": [],
   "source": [
    "\"\"\"\n",
    "total_charge = []\n",
    "\n",
    "pbar = ProgressBar(widgets=['Calculating Total Charge for Validation Set. Progress: ', Percentage(), ' ', Bar(marker='0',left='[',right=']'),\n",
    "           ' ', ETA()], maxval=len(val_idxs))\n",
    "\n",
    "pbar.start()\n",
    "for i in range(len(val_idxs)):\n",
    "    pbar.update(i)\n",
    "    \n",
    "    item = val_idxs[i]\n",
    "    start = event_hits_index[item]\n",
    "    stop  = event_hits_index[item + 1]\n",
    "    charge = hit_charge[start:stop]\n",
    "    \n",
    "    max_charge = np.max(charge)\n",
    "    \n",
    "    total_charge.append(max_charge)\n",
    "pbar.finish()\n",
    "\n",
    "dataset_info[1]['max_charge'] = np.array(total_charge)\n",
    "\n",
    "np.savez('./new_dataset_data/validation_set_max_charge.npz', max_charge=dataset_info[1]['max_charge'])\n",
    "\"\"\""
   ]
  },
  {
   "cell_type": "code",
   "execution_count": null,
   "metadata": {},
   "outputs": [],
   "source": [
    "dataset_info[0]['max_charge'] = np.load('./new_dataset_data/training_set_max_charge.npz',allow_pickle=True)['max_charge']\n",
    "dataset_info[1]['max_charge'] = np.load('./new_dataset_data/validation_set_max_charge.npz',allow_pickle=True)['max_charge']"
   ]
  },
  {
   "cell_type": "code",
   "execution_count": null,
   "metadata": {},
   "outputs": [],
   "source": [
    "fig = plot_compare_dists([\n",
    "                    dataset_info[0]['max_charge'][train_g_idxs], dataset_info[1]['max_charge'][val_g_idxs],\n",
    "                    dataset_info[0]['max_charge'][train_e_idxs], dataset_info[1]['max_charge'][val_e_idxs],\n",
    "                    dataset_info[0]['max_charge'][train_m_idxs], dataset_info[1]['max_charge'][val_m_idxs]],\n",
    "                    [0,1,2],[3,4,5],['Gamma, Training Set', 'Gamma, Validation Set',\n",
    "                                     'Electron, Training Set', 'Electron, Validation Set',\n",
    "                                     'Muon, Training Set', 'Muon, Validation Set'],\n",
    "                    ratio_range=[0,2],title='Normalized Distribution of Event Max PMT Charge',\n",
    "                    colors=['r','m','y','b','c','k'],\n",
    "                    linestyle=['-','-','-','--','--','--'],\n",
    "                    xlabel='Max PMT Charge',\n",
    "                    verbose=True\n",
    "                    )"
   ]
  },
  {
   "cell_type": "code",
   "execution_count": null,
   "metadata": {},
   "outputs": [],
   "source": [
    "# Find all events in the leftmost bin\n",
    "train_max_left_bin_bound = 1.4834103e+02\n",
    "left_max_train_g_idxs = train_g_idxs[dataset_info[0]['total_charge'][train_g_idxs] < train_max_left_bin_bound]\n",
    "left_max_train_e_idxs = train_e_idxs[dataset_info[0]['total_charge'][train_e_idxs] < train_max_left_bin_bound]\n",
    "left_max_train_m_idxs = train_m_idxs[dataset_info[0]['total_charge'][train_m_idxs] < train_max_left_bin_bound]\n",
    "\n",
    "val_max_left_bin_bound = 1.4834103e+02\n",
    "left_max_val_g_idxs = val_g_idxs[dataset_info[1]['total_charge'][val_g_idxs] < val_max_left_bin_bound]\n",
    "left_max_val_e_idxs = val_e_idxs[dataset_info[1]['total_charge'][val_e_idxs] < val_max_left_bin_bound]\n",
    "left_max_val_m_idxs = val_m_idxs[dataset_info[1]['total_charge'][val_m_idxs] < val_max_left_bin_bound]\n",
    "\n",
    "\n",
    "fig = plot_compare_dists([\n",
    "                    dataset_info[0]['max_charge'][left_train_g_idxs], dataset_info[1]['max_charge'][left_val_g_idxs],\n",
    "                    dataset_info[0]['max_charge'][left_train_e_idxs], dataset_info[1]['max_charge'][left_val_e_idxs],\n",
    "                    dataset_info[0]['max_charge'][left_train_m_idxs], dataset_info[1]['max_charge'][left_val_m_idxs]],\n",
    "                    [0,1,2],[3,4,5],['Gamma, Training Set', 'Gamma, Validation Set',\n",
    "                                     'Electron, Training Set', 'Electron, Validation Set',\n",
    "                                     'Muon, Training Set', 'Muon, Validation Set'],\n",
    "                    ratio_range=[0,2],title='Normalized Distribution of Event Max PMT Charge for Lowest Bin',colors=['r','m','y','b','c','k'],\n",
    "                    linestyle=['-','-','-','--','--','--'],\n",
    "                    xlabel='Max PMT Charge (log scale)',\n",
    "                    xscale='log'\n",
    "                    )"
   ]
  },
  {
   "cell_type": "markdown",
   "metadata": {},
   "source": [
    "# Charge by PMT"
   ]
  },
  {
   "cell_type": "code",
   "execution_count": null,
   "metadata": {},
   "outputs": [],
   "source": [
    "\"\"\"\n",
    "test_indices = train_idxs[0:1]\n",
    "\n",
    "starts = event_hits_index[test_indices]\n",
    "stops  = event_hits_index[test_indices + 1]\n",
    "\n",
    "charge = hit_charge[event_hits_index[test_indices]:event_hits_index[test_indices + 1]]\n",
    "\"\"\""
   ]
  },
  {
   "cell_type": "code",
   "execution_count": null,
   "metadata": {},
   "outputs": [],
   "source": [
    "\"\"\"\n",
    "pmt_charge = []\n",
    "\n",
    "pbar = ProgressBar(widgets=['Calculating PMT Charge for Training Set. Progress: ', Percentage(), ' ', Bar(marker='0',left='[',right=']'),\n",
    "            ' ', ETA()], maxval=len(train_idxs))\n",
    "\n",
    "pbar.start()\n",
    "for i in range(len(train_idxs)):\n",
    "    pbar.update(i)\n",
    "    \n",
    "    item = train_idxs[i]\n",
    "    start = event_hits_index[item]\n",
    "    stop  = event_hits_index[item + 1]\n",
    "    charge = hit_charge[start:stop]\n",
    "    \n",
    "    pmt_charge.extend(charge)\n",
    "pbar.finish()\n",
    "\n",
    "dataset_info[0]['pmt_charge'] = np.array(pmt_charge)\n",
    "\n",
    "np.savez('./new_dataset_data/training_set_pmt_charge.npz', pmt_charge = dataset_info[0]['pmt_charge'])\n",
    "\"\"\""
   ]
  },
  {
   "cell_type": "code",
   "execution_count": null,
   "metadata": {},
   "outputs": [],
   "source": [
    "\"\"\"\n",
    "pmt_charge = []\n",
    "\n",
    "pbar = ProgressBar(widgets=['Calculating PMT Charge for Validation Set. Progress: ', Percentage(), ' ', Bar(marker='0',left='[',right=']'),\n",
    "            ' ', ETA()], maxval=len(train_idxs))\n",
    "\n",
    "pbar.start()\n",
    "for i in range(len(train_idxs)):\n",
    "    pbar.update(i)\n",
    "    \n",
    "    item = train_idxs[i]\n",
    "    start = event_hits_index[item]\n",
    "    stop  = event_hits_index[item + 1]\n",
    "    charge = hit_charge[start:stop]\n",
    "    \n",
    "    pmt_charge.extend(charge)\n",
    "pbar.finish()\n",
    "\n",
    "dataset_info[1]['pmt_charge'] = np.array(pmt_charge)\n",
    "\n",
    "np.savez('./new_dataset_data/validation_set_pmt_charge.npz', pmt_charge = dataset_info[1]['pmt_charge'])\n",
    "\"\"\""
   ]
  },
  {
   "cell_type": "markdown",
   "metadata": {},
   "source": [
    "# Distribution of Event Hit Types"
   ]
  },
  {
   "cell_type": "code",
   "execution_count": null,
   "metadata": {},
   "outputs": [],
   "source": [
    "\"\"\"\n",
    "pbar = ProgressBar(widgets=['Calculating Event Hit Types. Progress: ', Percentage(), ' ', Bar(marker='0',left='[',right=']'),\n",
    "           ' ', ETA()], maxval=reduce(lambda x,y:x+y , list(map(lambda x : x['positions'].shape[0], dataset_info))))\n",
    "\n",
    "pbar.start()\n",
    "done=0\n",
    "for dset in dataset_info:\n",
    "    hit_types = []\n",
    "    for i in range(dset['positions'].shape[0]):\n",
    "        pbar.update(done + i)\n",
    "        hit_types.append(event_hit_type(dset['positions'][i][0], dset['angles'][i]))\n",
    "    dset['hit_types'] = hit_types\n",
    "    done = done + dset['positions'].shape[0]\n",
    "pbar.finish()\n",
    "\n",
    "np.savez('./new_dataset_data/hit_types.npz', train_hit_types= dataset_info[0]['hit_types'],\n",
    "                          val_hit_types  = dataset_info[1]['hit_types'],\n",
    "                          test_hit_types = dataset_info[2]['hit_types'])\n",
    "\"\"\""
   ]
  },
  {
   "cell_type": "code",
   "execution_count": null,
   "metadata": {},
   "outputs": [],
   "source": [
    "f = np.load('./new_dataset_data/dist_to_wall.npz', allow_pickle=True)\n",
    "\n",
    "dataset_info[0]['d_to_wall'] = f['train_d_to_wall']\n",
    "dataset_info[1]['d_to_wall'] = f['val_d_to_wall']\n",
    "dataset_info[2]['d_to_wall'] = f['test_d_to_wall']"
   ]
  },
  {
   "cell_type": "code",
   "execution_count": null,
   "metadata": {},
   "outputs": [],
   "source": [
    "hit_type_dict = {'endcap': 0, 'barrel': 1}\n",
    "f = np.load('hit_types.npz', allow_pickle=True)\n",
    "\n",
    "dataset_info[0]['hit_types'] = f['train_hit_types']\n",
    "dataset_info[1]['hit_types'] = f['val_hit_types']\n",
    "dataset_info[2]['hit_types'] = f['test_hit_types']"
   ]
  },
  {
   "cell_type": "code",
   "execution_count": null,
   "metadata": {},
   "outputs": [],
   "source": [
    "# Find all endcap events\n",
    "endcap_train_idxs = dataset_info[0]['hit_types'] == hit_type_dict['endcap']\n",
    "endcap_val_idxs   = dataset_info[1]['hit_types'] == hit_type_dict['endcap']\n",
    "endcap_test_idxs  = dataset_info[2]['hit_types'] == hit_type_dict['endcap']\n",
    "\n",
    "# Find all barrel events\n",
    "barrel_train_idxs = dataset_info[0]['hit_types'] == hit_type_dict['barrel']\n",
    "barrel_val_idxs   = dataset_info[1]['hit_types'] == hit_type_dict['barrel']\n",
    "barrel_test_idxs  = dataset_info[2]['hit_types'] == hit_type_dict['barrel']"
   ]
  },
  {
   "cell_type": "code",
   "execution_count": null,
   "metadata": {},
   "outputs": [],
   "source": [
    "# Plot endcap distance to wall histogram\n",
    "patches = plot_compare_dists([\n",
    "                            dataset_info[0]['d_to_wall'][endcap_train_idxs],\n",
    "                            dataset_info[1]['d_to_wall'][endcap_val_idxs],\n",
    "                            dataset_info[2]['d_to_wall'][endcap_test_idxs]],\n",
    "                            [1,2],[0,0], \n",
    "                            bins=30,labels=[data['name'] for data in dataset_info],\n",
    "                            title='Normalized Distribution of Distance to Wall Along Particle Trajectory for Endcap Events',\n",
    "                            ratio_range=[0.8,1.2],xlabel='Distance (cm)',\n",
    "                            normalized=False)\n"
   ]
  },
  {
   "cell_type": "code",
   "execution_count": null,
   "metadata": {},
   "outputs": [],
   "source": [
    "# Plot barrel distance to wall histogram\n",
    "patches = plot_compare_dists([\n",
    "                            dataset_info[0]['d_to_wall'][barrel_train_idxs],\n",
    "                            dataset_info[1]['d_to_wall'][barrel_val_idxs],\n",
    "                            dataset_info[2]['d_to_wall'][barrel_test_idxs]],\n",
    "                            [1,2],[0,0], \n",
    "                            bins=30,labels=[data['name'] for data in dataset_info],\n",
    "                            title='Normalized Distribution of Distance to Wall Along Particle Trajectory for Barrel Events',\n",
    "                            ratio_range=[0.8,1.2],xlabel='Distance (cm)',\n",
    "                            normalized=False)\n"
   ]
  }
 ],
 "metadata": {
  "kernelspec": {
   "display_name": "Python 3",
   "language": "python",
   "name": "python3"
  },
  "language_info": {
   "codemirror_mode": {
    "name": "ipython",
    "version": 3
   },
   "file_extension": ".py",
   "mimetype": "text/x-python",
   "name": "python",
   "nbconvert_exporter": "python",
   "pygments_lexer": "ipython3",
   "version": "3.6.10"
  }
 },
 "nbformat": 4,
 "nbformat_minor": 4
}
