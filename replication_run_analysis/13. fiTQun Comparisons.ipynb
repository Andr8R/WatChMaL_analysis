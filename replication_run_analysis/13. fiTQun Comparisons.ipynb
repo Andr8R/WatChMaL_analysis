{
 "cells": [
  {
   "cell_type": "code",
   "execution_count": 3,
   "metadata": {},
   "outputs": [],
   "source": [
    "%load_ext autoreload\n",
    "%matplotlib inline\n",
    "%autoreload 2"
   ]
  },
  {
   "cell_type": "code",
   "execution_count": 4,
   "metadata": {},
   "outputs": [],
   "source": [
    "import numpy as np\n",
    "import matplotlib.pyplot as plt\n",
    "import os\n",
    "import sys\n"
   ]
  },
  {
   "cell_type": "code",
   "execution_count": 5,
   "metadata": {
    "tags": []
   },
   "outputs": [],
   "source": [
    "#sys.path.append(\"../..\")\n",
    "sys.path.append(\"..\")\n",
    "\n",
    "from WatChMaL.analysis.multi_plot_utils import multi_disp_learn_hist, multi_compute_roc, multi_plot_roc\n",
    "from WatChMaL.analysis.comparison_utils import multi_get_masked_data, multi_collapse_test_output"
   ]
  },
  {
   "cell_type": "code",
   "execution_count": 6,
   "metadata": {},
   "outputs": [],
   "source": [
    "############# define plotting params #############\n",
    "c = plt.rcParams['axes.prop_cycle'].by_key()['color']\n",
    "label_dict = {\"$\\gamma$\":0, \"$e$\":1, \"$\\mu$\":2}\n",
    "inverse_label_dict = {0:\"$\\gamma$\", 1:\"$e$\", 2:\"$\\mu$\"}"
   ]
  },
  {
   "cell_type": "code",
   "execution_count": 7,
   "metadata": {},
   "outputs": [],
   "source": [
    "############# define run locations #############\n",
    "short_locs = ['/home/jtindall/short_tank/short_tank_run_1/outputs']\n",
    "short_titles = ['Short Tank']\n",
    "\n",
    "full_locs = ['/home/jtindall/new_framework_replication/new_frame_single_gpu_replication/1_gpu_run_1/outputs']\n",
    "full_titles = ['Full Tank']\n",
    "\n",
    "fq_titles = ['fiTQun']"
   ]
  },
  {
   "cell_type": "code",
   "execution_count": 26,
   "metadata": {},
   "outputs": [],
   "source": [
    "# define plot params\n",
    "short_linecolor = [c[0] for _ in short_locs]\n",
    "short_linestyle = ['--' for _ in short_locs]\n",
    "\n",
    "full_linecolor = [c[1] for _ in full_locs]\n",
    "full_linestyle = [':' for _ in full_locs]\n",
    "\n",
    "fq_linecolor = [c[2]]\n",
    "fq_linestyle = ['-']"
   ]
  },
  {
   "cell_type": "code",
   "execution_count": 8,
   "metadata": {},
   "outputs": [],
   "source": [
    "#fig = multi_disp_learn_hist(mp_locs,losslim=2.5,titles=titles,leg_font=15, title_font=15,xmax=20)"
   ]
  },
  {
   "cell_type": "code",
   "execution_count": 27,
   "metadata": {},
   "outputs": [],
   "source": [
    "locs = short_locs + full_locs\n",
    "titles = short_titles + full_titles + fq_titles\n",
    "linecolor = short_linecolor + full_linecolor + fq_linecolor\n",
    "linestyle = short_linestyle + full_linestyle + fq_linestyle"
   ]
  },
  {
   "cell_type": "code",
   "execution_count": 10,
   "metadata": {},
   "outputs": [],
   "source": [
    "############# load short tank run data #############\n",
    "short_idx_file_path = '/fast_scratch/WatChMaL/data/IWCD_mPMT_Short_3M_OD_veto_idxs.npz'\n",
    "short_indices = np.load(short_idx_file_path)['test_idxs']\n",
    "\n",
    "short_raw_output_softmax    = [np.load(loc + \"/softmax.npy\") for loc in short_locs]\n",
    "short_raw_actual_labels     = [np.load(loc + \"/labels.npy\") for loc in short_locs]"
   ]
  },
  {
   "cell_type": "code",
   "execution_count": 11,
   "metadata": {},
   "outputs": [],
   "source": [
    "############# load full tank run data #############\n",
    "full_idx_file_path = '/fast_scratch/WatChMaL/data/IWCD_fulltank_300_post_veto_nomichel_pe_idxs.npz'\n",
    "full_indices = np.load(full_idx_file_path)['test_idxs']\n",
    "\n",
    "full_raw_output_softmax   = [np.load(loc + \"/softmax.npy\") for loc in full_locs]\n",
    "full_raw_actual_labels    = [np.load(loc + \"/labels.npy\") for loc in full_locs]"
   ]
  },
  {
   "cell_type": "markdown",
   "metadata": {},
   "source": [
    "## Load fiTQun data"
   ]
  },
  {
   "cell_type": "code",
   "execution_count": 12,
   "metadata": {},
   "outputs": [],
   "source": [
    "from WatChMaL.analysis.fitqun_comparison_utils import load_fq_output, verify_fq_matching"
   ]
  },
  {
   "cell_type": "code",
   "execution_count": 20,
   "metadata": {},
   "outputs": [],
   "source": [
    "# load parameters\n",
    "npz_path = '/home/jtindall/presentation_links/Index_Storage'\n",
    "idx_file_paths = ['/fast_scratch/WatChMaL/data/IWCD_fulltank_300_post_veto_nomichel_pe_idxs.npz'\n",
    "                  for _ in range(len(locs))]\n",
    "preferred_run_idx = 0\n",
    "cut_names= [['fq_failed', 'fq_flag'] for _ in range(len(locs))]"
   ]
  },
  {
   "cell_type": "code",
   "execution_count": 24,
   "metadata": {},
   "outputs": [],
   "source": [
    "fq_rootfiles, fq_eventids, fq_flag, fq_scores, fq_mom, fq_labels = load_fq_output(mapping_indices_path=os.path.join(npz_path,'fq_mapping_idxs.npz'), \n",
    "                                                                                  fq_failed_idxs_path=os.path.join(npz_path,'fq_failed_idxs.npz'), \n",
    "                                                                                  test_idxs_path=idx_file_paths[preferred_run_idx], \n",
    "                                                                                  cut_path='/home/jtindall/indices/pointnet_cut_indices.npz', \n",
    "                                                                                  cut_list=cut_names[0])"
   ]
  },
  {
   "cell_type": "code",
   "execution_count": null,
   "metadata": {},
   "outputs": [],
   "source": [
    "\"\"\"\n",
    "# TODO: fix root and id retrieval\n",
    "filtered_dataset_rootfiles, filtered_dataset_eventids = # stored root and id files\n",
    "verify_fq_matching(fq_rootfiles=fq_rootfiles, \n",
    "                   fq_eventids=fq_eventids, \n",
    "                   filtered_dataset_rootfiles=filtered_dataset_rootfiles, \n",
    "                   filtered_dataset_eventids=filtered_dataset_eventids)\n",
    "\"\"\""
   ]
  },
  {
   "cell_type": "code",
   "execution_count": null,
   "metadata": {},
   "outputs": [],
   "source": [
    "############# compute short tank multi e/gamma ROC #############\n",
    "short_fprs, short_tprs, short_thrs = multi_compute_roc(short_raw_output_softmax, short_raw_actual_labels, \n",
    "                                     true_label=label_dict[\"$e$\"], \n",
    "                                     false_label=label_dict[\"$\\gamma$\"])"
   ]
  },
  {
   "cell_type": "code",
   "execution_count": null,
   "metadata": {},
   "outputs": [],
   "source": [
    "############# compute long tank multi e/gamma ROC #############\n",
    "full_fprs, full_tprs, full_thrs = multi_compute_roc(full_raw_output_softmax, full_raw_actual_labels, \n",
    "                                     true_label=label_dict[\"$e$\"], \n",
    "                                     false_label=label_dict[\"$\\gamma$\"])"
   ]
  },
  {
   "cell_type": "code",
   "execution_count": null,
   "metadata": {},
   "outputs": [],
   "source": [
    "############# compute long tank multi e/gamma ROC #############\n",
    "full_fprs, full_tprs, full_thrs = multi_compute_roc(full_raw_output_softmax, full_raw_actual_labels, \n",
    "                                     true_label=label_dict[\"$e$\"], \n",
    "                                     false_label=label_dict[\"$\\gamma$\"])"
   ]
  },
  {
   "cell_type": "code",
   "execution_count": null,
   "metadata": {},
   "outputs": [],
   "source": [
    "############# combine short and long results #############\n",
    "fprs = short_fprs + full_fprs\n",
    "tprs = short_tprs + full_tprs\n",
    "thrs = short_thrs + full_thrs"
   ]
  },
  {
   "cell_type": "code",
   "execution_count": null,
   "metadata": {},
   "outputs": [],
   "source": [
    "figs = multi_plot_roc(fprs, tprs, thrs, \"$e$\", \"$\\gamma$\", \n",
    "                      fig_list=[1], ylims=[[0,3e6]], \n",
    "                      linestyles=linestyle,linecolors=linecolor, \n",
    "                      plot_labels=titles, show=False)"
   ]
  },
  {
   "cell_type": "code",
   "execution_count": null,
   "metadata": {},
   "outputs": [],
   "source": [
    "############# compute short multi e/mu ROC #############\n",
    "short_fprs, short_tprs, short_thrs = multi_compute_roc(short_raw_output_softmax, short_raw_actual_labels, \n",
    "                                     true_label=label_dict[\"$e$\"], \n",
    "                                     false_label=label_dict[\"$\\mu$\"])"
   ]
  },
  {
   "cell_type": "code",
   "execution_count": null,
   "metadata": {},
   "outputs": [],
   "source": [
    "############# compute full multi e/mu ROC #############\n",
    "full_fprs, full_tprs, full_thrs = multi_compute_roc(full_raw_output_softmax, full_raw_actual_labels,\n",
    "                                     true_label=label_dict[\"$e$\"], \n",
    "                                     false_label=label_dict[\"$\\mu$\"])"
   ]
  },
  {
   "cell_type": "code",
   "execution_count": null,
   "metadata": {},
   "outputs": [],
   "source": [
    "############# combine short and long results #############\n",
    "fprs =  short_fprs + full_fprs\n",
    "tprs = short_tprs + full_tprs\n",
    "thrs = short_thrs + full_thrs"
   ]
  },
  {
   "cell_type": "code",
   "execution_count": null,
   "metadata": {},
   "outputs": [],
   "source": [
    "figs = multi_plot_roc(fprs, tprs, thrs, \"$e$\", \"$\\mu$\", fig_list=[1], \n",
    "                      linestyles=linestyle,linecolors=linecolor, show=False)"
   ]
  },
  {
   "cell_type": "code",
   "execution_count": null,
   "metadata": {},
   "outputs": [],
   "source": [
    "muon_softmax_index_dict = {\"e/gamma\":0, \"mu\":1}"
   ]
  },
  {
   "cell_type": "code",
   "execution_count": null,
   "metadata": {},
   "outputs": [],
   "source": [
    "############# compute short collapsed ROC #############\n",
    "short_collapsed_class_scores_list, short_collapsed_class_labels_list = multi_collapse_test_output(short_raw_output_softmax, short_raw_actual_labels, label_dict, ignore_type='$\\gamma$')\n",
    "\n",
    "short_collapsed_class_labels_list = [collapsed_class_labels - 1 for collapsed_class_labels in short_collapsed_class_labels_list]\n",
    "short_collapsed_class_scores_list = [collapsed_class_scores[:,1:] for collapsed_class_scores in short_collapsed_class_scores_list]"
   ]
  },
  {
   "cell_type": "code",
   "execution_count": null,
   "metadata": {},
   "outputs": [],
   "source": [
    "short_fpr_list, short_tpr_list, short_thr_list = multi_compute_roc(short_collapsed_class_scores_list, short_collapsed_class_labels_list, \n",
    "                            true_label=muon_softmax_index_dict[\"e/gamma\"], \n",
    "                            false_label=muon_softmax_index_dict[\"mu\"])"
   ]
  },
  {
   "cell_type": "code",
   "execution_count": null,
   "metadata": {},
   "outputs": [],
   "source": [
    "############# compute full collapsed ROC #############\n",
    "full_collapsed_class_scores_list, full_collapsed_class_labels_list = multi_collapse_test_output(full_raw_output_softmax, full_raw_actual_labels, label_dict, ignore_type='$\\gamma$')\n",
    "\n",
    "full_collapsed_class_labels_list = [collapsed_class_labels - 1 for collapsed_class_labels in full_collapsed_class_labels_list]\n",
    "full_collapsed_class_scores_list = [collapsed_class_scores[:,1:] for collapsed_class_scores in full_collapsed_class_scores_list]"
   ]
  },
  {
   "cell_type": "code",
   "execution_count": null,
   "metadata": {},
   "outputs": [],
   "source": [
    "full_fpr_list, full_tpr_list, full_thr_list = multi_compute_roc(full_collapsed_class_scores_list, full_collapsed_class_labels_list, \n",
    "                            true_label=muon_softmax_index_dict[\"e/gamma\"], \n",
    "                            false_label=muon_softmax_index_dict[\"mu\"])"
   ]
  },
  {
   "cell_type": "code",
   "execution_count": null,
   "metadata": {},
   "outputs": [],
   "source": [
    "############# combine short and long results #############\n",
    "fpr_list = short_fpr_list + full_fpr_list\n",
    "tpr_list = short_tpr_list + full_tpr_list\n",
    "thr_list = short_thr_list + full_thr_list"
   ]
  },
  {
   "cell_type": "code",
   "execution_count": null,
   "metadata": {},
   "outputs": [],
   "source": [
    "figs = multi_plot_roc(fpr_list, tpr_list, thr_list,\"e/gamma\", \"mu\", \n",
    "                      fig_list=[1], ylims=[[0,3e6]], \n",
    "                      linestyles=linestyle,linecolors=linecolor, plot_labels=titles, show=False)"
   ]
  }
 ],
 "metadata": {
  "kernelspec": {
   "display_name": "Python 3",
   "language": "python",
   "name": "python3"
  },
  "language_info": {
   "codemirror_mode": {
    "name": "ipython",
    "version": 3
   },
   "file_extension": ".py",
   "mimetype": "text/x-python",
   "name": "python",
   "nbconvert_exporter": "python",
   "pygments_lexer": "ipython3",
   "version": "3.6.10"
  }
 },
 "nbformat": 4,
 "nbformat_minor": 4
}
