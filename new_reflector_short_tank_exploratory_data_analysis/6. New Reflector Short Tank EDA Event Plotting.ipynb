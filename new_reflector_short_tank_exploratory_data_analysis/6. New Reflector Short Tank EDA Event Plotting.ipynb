{
 "cells": [
  {
   "cell_type": "markdown",
   "metadata": {},
   "source": [
    "# Analyzing Training, Validation, and Testing Sets\n",
    "\n",
    "Investigation of the dataset for new reflector short tank data"
   ]
  },
  {
   "cell_type": "code",
   "execution_count": 1,
   "metadata": {},
   "outputs": [],
   "source": [
    "%load_ext autoreload\n",
    "%matplotlib inline\n",
    "%autoreload 2"
   ]
  },
  {
   "cell_type": "code",
   "execution_count": 2,
   "metadata": {},
   "outputs": [],
   "source": [
    "import sys\n",
    "import os\n",
    "import h5py\n",
    "import numpy as np\n",
    "import matplotlib.pyplot as plt"
   ]
  },
  {
   "cell_type": "code",
   "execution_count": 3,
   "metadata": {},
   "outputs": [
    {
     "name": "stdout",
     "output_type": "stream",
     "text": [
      "/home/jtindall/WatChMaL_analysis/new_reflector_short_tank_exploratory_data_analysis\n",
      "adding pardir\n"
     ]
    }
   ],
   "source": [
    "# Add the path to the parent directory to augment search for module\n",
    "print(os.getcwd())\n",
    "\n",
    "if \"../..\" not in sys.path:\n",
    "    print(\"adding pardir\")\n",
    "    sys.path.append(\"../..\")\n",
    "    sys.path.append('/home/jtindall/WatChMaL_analysis/WatChMaL')\n",
    "    #sys.path.append(\"/home/jtindall/WatChMaL_analysis/WatChMaL/watchmal\")\n",
    "    \n",
    "from WatChMaL_analysis.old_reflector_short_tank_exploratory_data_analysis.exploratory_data_analysis_utils import *"
   ]
  },
  {
   "cell_type": "code",
   "execution_count": 4,
   "metadata": {},
   "outputs": [],
   "source": [
    "from WatChMaL_analysis.WatChMaL.analysis.event_analysis.ShortEventPlotter import ShortEventPlotter"
   ]
  },
  {
   "cell_type": "code",
   "execution_count": 6,
   "metadata": {},
   "outputs": [
    {
     "ename": "NameError",
     "evalue": "name 'tubes' is not defined",
     "output_type": "error",
     "traceback": [
      "\u001b[0;31m------------------------------------------------------------------------\u001b[0m",
      "\u001b[0;31mNameError\u001b[0m                              Traceback (most recent call last)",
      "\u001b[0;32m<ipython-input-6-3bd5222d43eb>\u001b[0m in \u001b[0;36m<module>\u001b[0;34m\u001b[0m\n\u001b[1;32m      1\u001b[0m plotter = ShortEventPlotter(h5_path='/fast_scratch/WatChMaL/data/IWCD_mPMT_Short_emg_E0to1000MeV_digihits.h5',\n\u001b[1;32m      2\u001b[0m                             \u001b[0mmpmt_positions_file\u001b[0m\u001b[0;34m=\u001b[0m\u001b[0;34m'/data/WatChMaL/data/IWCDshort_mPMT_image_positions.npz'\u001b[0m\u001b[0;34m,\u001b[0m\u001b[0;34m\u001b[0m\u001b[0;34m\u001b[0m\u001b[0m\n\u001b[0;32m----> 3\u001b[0;31m                             geo_path='/fast_scratch/WatChMaL/data/geo_mPMTshort.npz')\n\u001b[0m",
      "\u001b[0;32m~/WatChMaL_analysis/WatChMaL/analysis/event_analysis/ShortEventPlotter.py\u001b[0m in \u001b[0;36m__init__\u001b[0;34m(self, h5_path, mpmt_positions_file, geo_path)\u001b[0m\n\u001b[1;32m      9\u001b[0m         \u001b[0mself\u001b[0m\u001b[0;34m.\u001b[0m\u001b[0mdataset\u001b[0m \u001b[0;34m=\u001b[0m \u001b[0mCNNmPMTDataset\u001b[0m\u001b[0;34m(\u001b[0m\u001b[0mh5file\u001b[0m\u001b[0;34m=\u001b[0m\u001b[0mh5_path\u001b[0m\u001b[0;34m,\u001b[0m \u001b[0mmpmt_positions_file\u001b[0m\u001b[0;34m=\u001b[0m\u001b[0mmpmt_positions_file\u001b[0m\u001b[0;34m,\u001b[0m \u001b[0mis_distributed\u001b[0m\u001b[0;34m=\u001b[0m\u001b[0;32mFalse\u001b[0m\u001b[0;34m)\u001b[0m\u001b[0;34m\u001b[0m\u001b[0;34m\u001b[0m\u001b[0m\n\u001b[1;32m     10\u001b[0m \u001b[0;34m\u001b[0m\u001b[0m\n\u001b[0;32m---> 11\u001b[0;31m         \u001b[0mself\u001b[0m\u001b[0;34m.\u001b[0m\u001b[0mflat_map_positive\u001b[0m \u001b[0;34m=\u001b[0m \u001b[0mself\u001b[0m\u001b[0;34m.\u001b[0m\u001b[0mPMT_to_flat_cylinder_map_positive\u001b[0m\u001b[0;34m(\u001b[0m\u001b[0mtubes\u001b[0m\u001b[0;34m,\u001b[0m \u001b[0mtube_xyz\u001b[0m\u001b[0;34m)\u001b[0m\u001b[0;34m\u001b[0m\u001b[0;34m\u001b[0m\u001b[0m\n\u001b[0m\u001b[1;32m     12\u001b[0m \u001b[0;34m\u001b[0m\u001b[0m\n\u001b[1;32m     13\u001b[0m     \u001b[0;32mdef\u001b[0m \u001b[0mget_event_data_from_index\u001b[0m\u001b[0;34m(\u001b[0m\u001b[0mself\u001b[0m\u001b[0;34m,\u001b[0m \u001b[0mindex\u001b[0m\u001b[0;34m)\u001b[0m\u001b[0;34m:\u001b[0m\u001b[0;34m\u001b[0m\u001b[0;34m\u001b[0m\u001b[0m\n",
      "\u001b[0;31mNameError\u001b[0m: name 'tubes' is not defined"
     ]
    }
   ],
   "source": [
    "plotter = ShortEventPlotter(h5_path='/fast_scratch/WatChMaL/data/IWCD_mPMT_Short_emg_E0to1000MeV_digihits.h5',\n",
    "                            mpmt_positions_file='/data/WatChMaL/data/IWCDshort_mPMT_image_positions.npz', \n",
    "                            geo_path='/fast_scratch/WatChMaL/data/geo_mPMTshort.npz')"
   ]
  },
  {
   "cell_type": "code",
   "execution_count": null,
   "metadata": {},
   "outputs": [],
   "source": []
  },
  {
   "cell_type": "code",
   "execution_count": null,
   "metadata": {},
   "outputs": [],
   "source": []
  },
  {
   "cell_type": "code",
   "execution_count": null,
   "metadata": {},
   "outputs": [],
   "source": []
  },
  {
   "cell_type": "code",
   "execution_count": null,
   "metadata": {},
   "outputs": [],
   "source": []
  }
 ],
 "metadata": {
  "kernelspec": {
   "display_name": "Python 3",
   "language": "python",
   "name": "python3"
  },
  "language_info": {
   "codemirror_mode": {
    "name": "ipython",
    "version": 3
   },
   "file_extension": ".py",
   "mimetype": "text/x-python",
   "name": "python",
   "nbconvert_exporter": "python",
   "pygments_lexer": "ipython3",
   "version": "3.6.10"
  }
 },
 "nbformat": 4,
 "nbformat_minor": 4
}
